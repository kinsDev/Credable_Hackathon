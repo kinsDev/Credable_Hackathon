{
 "cells": [
  {
   "cell_type": "code",
   "execution_count": 1,
   "id": "initial_id",
   "metadata": {
    "collapsed": true,
    "ExecuteTime": {
     "end_time": "2024-05-01T10:32:35.785366Z",
     "start_time": "2024-05-01T10:32:35.766665100Z"
    }
   },
   "outputs": [],
   "source": [
    "import numpy as np\n",
    "import pandas as pd\n",
    "\n",
    "import matplotlib.pyplot as plt\n",
    "import seaborn as sns"
   ]
  },
  {
   "cell_type": "code",
   "outputs": [],
   "source": [
    "df = pd.read_csv('Data_Hackathon.csv')"
   ],
   "metadata": {
    "collapsed": false,
    "ExecuteTime": {
     "end_time": "2024-05-01T10:32:37.007712900Z",
     "start_time": "2024-05-01T10:32:36.982059200Z"
    }
   },
   "id": "1673354794537ea0",
   "execution_count": 2
  },
  {
   "cell_type": "code",
   "outputs": [
    {
     "data": {
      "text/plain": "        Unnamed: 0          Upsell Increasing instalment Unnamed: 3  \\\n0              NaN         Upgrade       Increasing term        NaN   \n1              NaN             NaN                   NaN        NaN   \n2  Sales, by month             NaN                   NaN        NaN   \n3              NaN             NaN                   NaN        NaN   \n4              NaN           Month               1/31/19    2/28/19   \n5              NaN  Volume (units)                 10000     10,200   \n\n  Unnamed: 4 Unnamed: 5 Unnamed: 6 Unnamed: 7 Unnamed: 8 Unnamed: 9  ...  \\\n0        NaN        NaN        NaN        NaN        NaN        NaN  ...   \n1        NaN        NaN        NaN        NaN        NaN        NaN  ...   \n2        NaN        NaN        NaN        NaN        NaN        NaN  ...   \n3        NaN        NaN        NaN        NaN        NaN        NaN  ...   \n4    3/31/19    4/30/19    5/31/19    6/30/19    7/31/19    8/31/19  ...   \n5     10,404     10,612     10,824     11,041     11,262     11,487  ...   \n\n  Unnamed: 52 Unnamed: 53 Unnamed: 54 Unnamed: 55 Unnamed: 56 Unnamed: 57  \\\n0         NaN         NaN         NaN         NaN         NaN         NaN   \n1         NaN         NaN         NaN         NaN         NaN         NaN   \n2         NaN         NaN         NaN         NaN         NaN         NaN   \n3         NaN         NaN         NaN         NaN         NaN         NaN   \n4     3/31/23     4/30/23     5/31/23     6/30/23     7/31/23     8/31/23   \n5      26,916      27,454      28,003      28,563      29,135      29,717   \n\n  Unnamed: 58 Unnamed: 59 Unnamed: 60 Unnamed: 61  \n0         NaN         NaN         NaN         NaN  \n1         NaN         NaN         NaN         NaN  \n2         NaN         NaN         NaN         NaN  \n3         NaN         NaN         NaN         NaN  \n4     9/30/23    10/31/23    11/30/23    12/31/23  \n5      30,312      30,918      31,536      32,167  \n\n[6 rows x 62 columns]",
      "text/html": "<div>\n<style scoped>\n    .dataframe tbody tr th:only-of-type {\n        vertical-align: middle;\n    }\n\n    .dataframe tbody tr th {\n        vertical-align: top;\n    }\n\n    .dataframe thead th {\n        text-align: right;\n    }\n</style>\n<table border=\"1\" class=\"dataframe\">\n  <thead>\n    <tr style=\"text-align: right;\">\n      <th></th>\n      <th>Unnamed: 0</th>\n      <th>Upsell</th>\n      <th>Increasing instalment</th>\n      <th>Unnamed: 3</th>\n      <th>Unnamed: 4</th>\n      <th>Unnamed: 5</th>\n      <th>Unnamed: 6</th>\n      <th>Unnamed: 7</th>\n      <th>Unnamed: 8</th>\n      <th>Unnamed: 9</th>\n      <th>...</th>\n      <th>Unnamed: 52</th>\n      <th>Unnamed: 53</th>\n      <th>Unnamed: 54</th>\n      <th>Unnamed: 55</th>\n      <th>Unnamed: 56</th>\n      <th>Unnamed: 57</th>\n      <th>Unnamed: 58</th>\n      <th>Unnamed: 59</th>\n      <th>Unnamed: 60</th>\n      <th>Unnamed: 61</th>\n    </tr>\n  </thead>\n  <tbody>\n    <tr>\n      <th>0</th>\n      <td>NaN</td>\n      <td>Upgrade</td>\n      <td>Increasing term</td>\n      <td>NaN</td>\n      <td>NaN</td>\n      <td>NaN</td>\n      <td>NaN</td>\n      <td>NaN</td>\n      <td>NaN</td>\n      <td>NaN</td>\n      <td>...</td>\n      <td>NaN</td>\n      <td>NaN</td>\n      <td>NaN</td>\n      <td>NaN</td>\n      <td>NaN</td>\n      <td>NaN</td>\n      <td>NaN</td>\n      <td>NaN</td>\n      <td>NaN</td>\n      <td>NaN</td>\n    </tr>\n    <tr>\n      <th>1</th>\n      <td>NaN</td>\n      <td>NaN</td>\n      <td>NaN</td>\n      <td>NaN</td>\n      <td>NaN</td>\n      <td>NaN</td>\n      <td>NaN</td>\n      <td>NaN</td>\n      <td>NaN</td>\n      <td>NaN</td>\n      <td>...</td>\n      <td>NaN</td>\n      <td>NaN</td>\n      <td>NaN</td>\n      <td>NaN</td>\n      <td>NaN</td>\n      <td>NaN</td>\n      <td>NaN</td>\n      <td>NaN</td>\n      <td>NaN</td>\n      <td>NaN</td>\n    </tr>\n    <tr>\n      <th>2</th>\n      <td>Sales, by month</td>\n      <td>NaN</td>\n      <td>NaN</td>\n      <td>NaN</td>\n      <td>NaN</td>\n      <td>NaN</td>\n      <td>NaN</td>\n      <td>NaN</td>\n      <td>NaN</td>\n      <td>NaN</td>\n      <td>...</td>\n      <td>NaN</td>\n      <td>NaN</td>\n      <td>NaN</td>\n      <td>NaN</td>\n      <td>NaN</td>\n      <td>NaN</td>\n      <td>NaN</td>\n      <td>NaN</td>\n      <td>NaN</td>\n      <td>NaN</td>\n    </tr>\n    <tr>\n      <th>3</th>\n      <td>NaN</td>\n      <td>NaN</td>\n      <td>NaN</td>\n      <td>NaN</td>\n      <td>NaN</td>\n      <td>NaN</td>\n      <td>NaN</td>\n      <td>NaN</td>\n      <td>NaN</td>\n      <td>NaN</td>\n      <td>...</td>\n      <td>NaN</td>\n      <td>NaN</td>\n      <td>NaN</td>\n      <td>NaN</td>\n      <td>NaN</td>\n      <td>NaN</td>\n      <td>NaN</td>\n      <td>NaN</td>\n      <td>NaN</td>\n      <td>NaN</td>\n    </tr>\n    <tr>\n      <th>4</th>\n      <td>NaN</td>\n      <td>Month</td>\n      <td>1/31/19</td>\n      <td>2/28/19</td>\n      <td>3/31/19</td>\n      <td>4/30/19</td>\n      <td>5/31/19</td>\n      <td>6/30/19</td>\n      <td>7/31/19</td>\n      <td>8/31/19</td>\n      <td>...</td>\n      <td>3/31/23</td>\n      <td>4/30/23</td>\n      <td>5/31/23</td>\n      <td>6/30/23</td>\n      <td>7/31/23</td>\n      <td>8/31/23</td>\n      <td>9/30/23</td>\n      <td>10/31/23</td>\n      <td>11/30/23</td>\n      <td>12/31/23</td>\n    </tr>\n    <tr>\n      <th>5</th>\n      <td>NaN</td>\n      <td>Volume (units)</td>\n      <td>10000</td>\n      <td>10,200</td>\n      <td>10,404</td>\n      <td>10,612</td>\n      <td>10,824</td>\n      <td>11,041</td>\n      <td>11,262</td>\n      <td>11,487</td>\n      <td>...</td>\n      <td>26,916</td>\n      <td>27,454</td>\n      <td>28,003</td>\n      <td>28,563</td>\n      <td>29,135</td>\n      <td>29,717</td>\n      <td>30,312</td>\n      <td>30,918</td>\n      <td>31,536</td>\n      <td>32,167</td>\n    </tr>\n  </tbody>\n</table>\n<p>6 rows × 62 columns</p>\n</div>"
     },
     "execution_count": 3,
     "metadata": {},
     "output_type": "execute_result"
    }
   ],
   "source": [
    "df.head(15)"
   ],
   "metadata": {
    "collapsed": false,
    "ExecuteTime": {
     "end_time": "2024-05-01T10:32:38.634537800Z",
     "start_time": "2024-05-01T10:32:38.611677500Z"
    }
   },
   "id": "c07e162906cf205f",
   "execution_count": 3
  },
  {
   "cell_type": "code",
   "outputs": [
    {
     "data": {
      "text/plain": "Unnamed: 0               5\nUpsell                   3\nIncreasing instalment    3\nUnnamed: 3               4\nUnnamed: 4               4\n                        ..\nUnnamed: 57              4\nUnnamed: 58              4\nUnnamed: 59              4\nUnnamed: 60              4\nUnnamed: 61              4\nLength: 62, dtype: int64"
     },
     "execution_count": 4,
     "metadata": {},
     "output_type": "execute_result"
    }
   ],
   "source": [
    "df.isnull().sum()"
   ],
   "metadata": {
    "collapsed": false,
    "ExecuteTime": {
     "end_time": "2024-05-01T10:32:40.600392800Z",
     "start_time": "2024-05-01T10:32:40.582062600Z"
    }
   },
   "id": "3bf6da995d38e513",
   "execution_count": 4
  },
  {
   "cell_type": "code",
   "outputs": [
    {
     "data": {
      "text/plain": "Unnamed: 0               object\nUpsell                   object\nIncreasing instalment    object\nUnnamed: 3               object\nUnnamed: 4               object\n                          ...  \nUnnamed: 57              object\nUnnamed: 58              object\nUnnamed: 59              object\nUnnamed: 60              object\nUnnamed: 61              object\nLength: 62, dtype: object"
     },
     "execution_count": 5,
     "metadata": {},
     "output_type": "execute_result"
    }
   ],
   "source": [
    "df.dtypes"
   ],
   "metadata": {
    "collapsed": false,
    "ExecuteTime": {
     "end_time": "2024-05-01T10:32:42.056610Z",
     "start_time": "2024-05-01T10:32:42.014531300Z"
    }
   },
   "id": "a9043c0af5582d0e",
   "execution_count": 5
  },
  {
   "cell_type": "code",
   "outputs": [
    {
     "data": {
      "text/plain": "             Unnamed: 0   Upsell Increasing instalment Unnamed: 3 Unnamed: 4  \\\ncount                 1        3                     3          2          2   \nunique                1        3                     3          2          2   \ntop     Sales, by month  Upgrade       Increasing term    2/28/19    3/31/19   \nfreq                  1        1                     1          1          1   \n\n       Unnamed: 5 Unnamed: 6 Unnamed: 7 Unnamed: 8 Unnamed: 9  ...  \\\ncount           2          2          2          2          2  ...   \nunique          2          2          2          2          2  ...   \ntop       4/30/19    5/31/19    6/30/19    7/31/19    8/31/19  ...   \nfreq            1          1          1          1          1  ...   \n\n       Unnamed: 52 Unnamed: 53 Unnamed: 54 Unnamed: 55 Unnamed: 56  \\\ncount            2           2           2           2           2   \nunique           2           2           2           2           2   \ntop        3/31/23     4/30/23     5/31/23     6/30/23     7/31/23   \nfreq             1           1           1           1           1   \n\n       Unnamed: 57 Unnamed: 58 Unnamed: 59 Unnamed: 60 Unnamed: 61  \ncount            2           2           2           2           2  \nunique           2           2           2           2           2  \ntop        8/31/23     9/30/23    10/31/23    11/30/23    12/31/23  \nfreq             1           1           1           1           1  \n\n[4 rows x 62 columns]",
      "text/html": "<div>\n<style scoped>\n    .dataframe tbody tr th:only-of-type {\n        vertical-align: middle;\n    }\n\n    .dataframe tbody tr th {\n        vertical-align: top;\n    }\n\n    .dataframe thead th {\n        text-align: right;\n    }\n</style>\n<table border=\"1\" class=\"dataframe\">\n  <thead>\n    <tr style=\"text-align: right;\">\n      <th></th>\n      <th>Unnamed: 0</th>\n      <th>Upsell</th>\n      <th>Increasing instalment</th>\n      <th>Unnamed: 3</th>\n      <th>Unnamed: 4</th>\n      <th>Unnamed: 5</th>\n      <th>Unnamed: 6</th>\n      <th>Unnamed: 7</th>\n      <th>Unnamed: 8</th>\n      <th>Unnamed: 9</th>\n      <th>...</th>\n      <th>Unnamed: 52</th>\n      <th>Unnamed: 53</th>\n      <th>Unnamed: 54</th>\n      <th>Unnamed: 55</th>\n      <th>Unnamed: 56</th>\n      <th>Unnamed: 57</th>\n      <th>Unnamed: 58</th>\n      <th>Unnamed: 59</th>\n      <th>Unnamed: 60</th>\n      <th>Unnamed: 61</th>\n    </tr>\n  </thead>\n  <tbody>\n    <tr>\n      <th>count</th>\n      <td>1</td>\n      <td>3</td>\n      <td>3</td>\n      <td>2</td>\n      <td>2</td>\n      <td>2</td>\n      <td>2</td>\n      <td>2</td>\n      <td>2</td>\n      <td>2</td>\n      <td>...</td>\n      <td>2</td>\n      <td>2</td>\n      <td>2</td>\n      <td>2</td>\n      <td>2</td>\n      <td>2</td>\n      <td>2</td>\n      <td>2</td>\n      <td>2</td>\n      <td>2</td>\n    </tr>\n    <tr>\n      <th>unique</th>\n      <td>1</td>\n      <td>3</td>\n      <td>3</td>\n      <td>2</td>\n      <td>2</td>\n      <td>2</td>\n      <td>2</td>\n      <td>2</td>\n      <td>2</td>\n      <td>2</td>\n      <td>...</td>\n      <td>2</td>\n      <td>2</td>\n      <td>2</td>\n      <td>2</td>\n      <td>2</td>\n      <td>2</td>\n      <td>2</td>\n      <td>2</td>\n      <td>2</td>\n      <td>2</td>\n    </tr>\n    <tr>\n      <th>top</th>\n      <td>Sales, by month</td>\n      <td>Upgrade</td>\n      <td>Increasing term</td>\n      <td>2/28/19</td>\n      <td>3/31/19</td>\n      <td>4/30/19</td>\n      <td>5/31/19</td>\n      <td>6/30/19</td>\n      <td>7/31/19</td>\n      <td>8/31/19</td>\n      <td>...</td>\n      <td>3/31/23</td>\n      <td>4/30/23</td>\n      <td>5/31/23</td>\n      <td>6/30/23</td>\n      <td>7/31/23</td>\n      <td>8/31/23</td>\n      <td>9/30/23</td>\n      <td>10/31/23</td>\n      <td>11/30/23</td>\n      <td>12/31/23</td>\n    </tr>\n    <tr>\n      <th>freq</th>\n      <td>1</td>\n      <td>1</td>\n      <td>1</td>\n      <td>1</td>\n      <td>1</td>\n      <td>1</td>\n      <td>1</td>\n      <td>1</td>\n      <td>1</td>\n      <td>1</td>\n      <td>...</td>\n      <td>1</td>\n      <td>1</td>\n      <td>1</td>\n      <td>1</td>\n      <td>1</td>\n      <td>1</td>\n      <td>1</td>\n      <td>1</td>\n      <td>1</td>\n      <td>1</td>\n    </tr>\n  </tbody>\n</table>\n<p>4 rows × 62 columns</p>\n</div>"
     },
     "execution_count": 6,
     "metadata": {},
     "output_type": "execute_result"
    }
   ],
   "source": [
    "df.describe()"
   ],
   "metadata": {
    "collapsed": false,
    "ExecuteTime": {
     "end_time": "2024-05-01T10:32:43.408872100Z",
     "start_time": "2024-05-01T10:32:43.326758400Z"
    }
   },
   "id": "af51c3066e378e7b",
   "execution_count": 6
  },
  {
   "cell_type": "markdown",
   "source": [
    "DATA PREPROCESSING"
   ],
   "metadata": {
    "collapsed": false
   },
   "id": "d8f9e26b26bc40d5"
  },
  {
   "cell_type": "code",
   "outputs": [],
   "source": [
    "# Drop unnecessary rows\n",
    "df = df.iloc[4:, :]  # Drop the first 4 rows\n",
    "\n",
    "# Drop unnecessary columns (if they exist)\n",
    "columns_to_drop = ['Unnamed: 0', 'Upsell', 'Increasing instalment', 'Unnamed: 3']\n",
    "existing_columns = [col for col in columns_to_drop if col in df.columns]\n",
    "df = df.drop(existing_columns, axis=1)\n",
    "\n",
    "# Rename column headers\n",
    "num_cols = df.shape[1]  # Get the number of columns in the DataFrame\n",
    "new_col_names = ['Month'] + [str(month) for month in pd.date_range(start='1/31/2019', end='12/31/2023', freq='M')][:num_cols-1]\n",
    "df.columns = new_col_names\n",
    "\n",
    "# Convert to long format\n",
    "df = pd.melt(df, id_vars=['Month'], var_name='Date', value_name='Volume')\n",
    "\n",
    "# Handle missing values and non-numeric data\n",
    "df['Date'] = pd.to_datetime(df['Date'])\n",
    "df['Volume'] = df['Volume'].replace(',', '', regex=True)\n",
    "df = df.dropna(subset=['Volume'])"
   ],
   "metadata": {
    "collapsed": false,
    "ExecuteTime": {
     "end_time": "2024-05-01T10:35:54.894789900Z",
     "start_time": "2024-05-01T10:35:54.757383200Z"
    }
   },
   "id": "a3bfe53c7ec27725",
   "execution_count": 9
  },
  {
   "cell_type": "markdown",
   "source": [
    "Calculate Eligibility"
   ],
   "metadata": {
    "collapsed": false
   },
   "id": "c5ad2246b1201fa1"
  },
  {
   "cell_type": "code",
   "outputs": [
    {
     "ename": "ModuleNotFoundError",
     "evalue": "No module named 'pulp'",
     "output_type": "error",
     "traceback": [
      "\u001B[1;31m---------------------------------------------------------------------------\u001B[0m",
      "\u001B[1;31mModuleNotFoundError\u001B[0m                       Traceback (most recent call last)",
      "Cell \u001B[1;32mIn[10], line 1\u001B[0m\n\u001B[1;32m----> 1\u001B[0m \u001B[38;5;28;01mimport\u001B[39;00m \u001B[38;5;21;01mpulp\u001B[39;00m\n\u001B[0;32m      3\u001B[0m \u001B[38;5;28;01mdef\u001B[39;00m \u001B[38;5;21mcalculate_eligibility\u001B[39m(df):\n\u001B[0;32m      4\u001B[0m     \u001B[38;5;66;03m# Calculate eligibility for upsells (cash loans)\u001B[39;00m\n\u001B[0;32m      5\u001B[0m     df[\u001B[38;5;124m'\u001B[39m\u001B[38;5;124mUpsell_Eligible\u001B[39m\u001B[38;5;124m'\u001B[39m] \u001B[38;5;241m=\u001B[39m \u001B[38;5;241m0.9\u001B[39m \u001B[38;5;241m*\u001B[39m df[\u001B[38;5;124m'\u001B[39m\u001B[38;5;124mVolume\u001B[39m\u001B[38;5;124m'\u001B[39m]\n",
      "\u001B[1;31mModuleNotFoundError\u001B[0m: No module named 'pulp'"
     ]
    }
   ],
   "source": [
    "import pulp\n",
    "\n",
    "def calculate_eligibility(df):\n",
    "    # Calculate eligibility for upsells (cash loans)\n",
    "    df['Upsell_Eligible'] = 0.9 * df['Volume']\n",
    "\n",
    "    # Calculate eligibility for upgrades (TV upgrades)\n",
    "    df['Upgrade_Eligible'] = 0\n",
    "    for i in range(400, len(df)):\n",
    "        prev_volume = df.iloc[i-400]['Volume']\n",
    "        prev_upsells = df.iloc[i-400:i]['Upsell'].sum()\n",
    "        df.loc[i, 'Upgrade_Eligible'] = 0.75 * prev_volume - 0.2 * prev_volume * prev_upsells\n",
    "\n",
    "    return df\n",
    "df = calculate_eligibility(df)"
   ],
   "metadata": {
    "collapsed": false,
    "ExecuteTime": {
     "end_time": "2024-05-01T10:38:48.444091900Z",
     "start_time": "2024-05-01T10:38:48.376278100Z"
    }
   },
   "id": "fdeacda9572ad9a8",
   "execution_count": 10
  },
  {
   "cell_type": "code",
   "outputs": [],
   "source": [],
   "metadata": {
    "collapsed": false
   },
   "id": "1288836e887d1731"
  }
 ],
 "metadata": {
  "kernelspec": {
   "display_name": "Python 3",
   "language": "python",
   "name": "python3"
  },
  "language_info": {
   "codemirror_mode": {
    "name": "ipython",
    "version": 2
   },
   "file_extension": ".py",
   "mimetype": "text/x-python",
   "name": "python",
   "nbconvert_exporter": "python",
   "pygments_lexer": "ipython2",
   "version": "2.7.6"
  }
 },
 "nbformat": 4,
 "nbformat_minor": 5
}
