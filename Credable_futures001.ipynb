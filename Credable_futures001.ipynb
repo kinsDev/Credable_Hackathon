{
 "cells": [
  {
   "cell_type": "code",
   "execution_count": 1,
   "id": "initial_id",
   "metadata": {
    "collapsed": true,
    "ExecuteTime": {
     "end_time": "2024-05-01T11:59:06.327226500Z",
     "start_time": "2024-05-01T11:59:06.318620300Z"
    }
   },
   "outputs": [],
   "source": [
    "import numpy as np\n",
    "import pandas as pd\n",
    "\n",
    "import matplotlib.pyplot as plt"
   ]
  },
  {
   "cell_type": "code",
   "outputs": [],
   "source": [
    "df = pd.read_csv('Data_Hackathon.csv')"
   ],
   "metadata": {
    "collapsed": false,
    "ExecuteTime": {
     "end_time": "2024-05-01T11:59:08.200874300Z",
     "start_time": "2024-05-01T11:59:08.185451Z"
    }
   },
   "id": "1673354794537ea0",
   "execution_count": 2
  },
  {
   "cell_type": "code",
   "outputs": [
    {
     "data": {
      "text/plain": "        Unnamed: 0          Upsell Increasing instalment Unnamed: 3  \\\n0              NaN         Upgrade       Increasing term        NaN   \n1              NaN             NaN                   NaN        NaN   \n2  Sales, by month             NaN                   NaN        NaN   \n3              NaN             NaN                   NaN        NaN   \n4              NaN           Month               1/31/19    2/28/19   \n5              NaN  Volume (units)                 10000     10,200   \n\n  Unnamed: 4 Unnamed: 5 Unnamed: 6 Unnamed: 7 Unnamed: 8 Unnamed: 9  ...  \\\n0        NaN        NaN        NaN        NaN        NaN        NaN  ...   \n1        NaN        NaN        NaN        NaN        NaN        NaN  ...   \n2        NaN        NaN        NaN        NaN        NaN        NaN  ...   \n3        NaN        NaN        NaN        NaN        NaN        NaN  ...   \n4    3/31/19    4/30/19    5/31/19    6/30/19    7/31/19    8/31/19  ...   \n5     10,404     10,612     10,824     11,041     11,262     11,487  ...   \n\n  Unnamed: 52 Unnamed: 53 Unnamed: 54 Unnamed: 55 Unnamed: 56 Unnamed: 57  \\\n0         NaN         NaN         NaN         NaN         NaN         NaN   \n1         NaN         NaN         NaN         NaN         NaN         NaN   \n2         NaN         NaN         NaN         NaN         NaN         NaN   \n3         NaN         NaN         NaN         NaN         NaN         NaN   \n4     3/31/23     4/30/23     5/31/23     6/30/23     7/31/23     8/31/23   \n5      26,916      27,454      28,003      28,563      29,135      29,717   \n\n  Unnamed: 58 Unnamed: 59 Unnamed: 60 Unnamed: 61  \n0         NaN         NaN         NaN         NaN  \n1         NaN         NaN         NaN         NaN  \n2         NaN         NaN         NaN         NaN  \n3         NaN         NaN         NaN         NaN  \n4     9/30/23    10/31/23    11/30/23    12/31/23  \n5      30,312      30,918      31,536      32,167  \n\n[6 rows x 62 columns]",
      "text/html": "<div>\n<style scoped>\n    .dataframe tbody tr th:only-of-type {\n        vertical-align: middle;\n    }\n\n    .dataframe tbody tr th {\n        vertical-align: top;\n    }\n\n    .dataframe thead th {\n        text-align: right;\n    }\n</style>\n<table border=\"1\" class=\"dataframe\">\n  <thead>\n    <tr style=\"text-align: right;\">\n      <th></th>\n      <th>Unnamed: 0</th>\n      <th>Upsell</th>\n      <th>Increasing instalment</th>\n      <th>Unnamed: 3</th>\n      <th>Unnamed: 4</th>\n      <th>Unnamed: 5</th>\n      <th>Unnamed: 6</th>\n      <th>Unnamed: 7</th>\n      <th>Unnamed: 8</th>\n      <th>Unnamed: 9</th>\n      <th>...</th>\n      <th>Unnamed: 52</th>\n      <th>Unnamed: 53</th>\n      <th>Unnamed: 54</th>\n      <th>Unnamed: 55</th>\n      <th>Unnamed: 56</th>\n      <th>Unnamed: 57</th>\n      <th>Unnamed: 58</th>\n      <th>Unnamed: 59</th>\n      <th>Unnamed: 60</th>\n      <th>Unnamed: 61</th>\n    </tr>\n  </thead>\n  <tbody>\n    <tr>\n      <th>0</th>\n      <td>NaN</td>\n      <td>Upgrade</td>\n      <td>Increasing term</td>\n      <td>NaN</td>\n      <td>NaN</td>\n      <td>NaN</td>\n      <td>NaN</td>\n      <td>NaN</td>\n      <td>NaN</td>\n      <td>NaN</td>\n      <td>...</td>\n      <td>NaN</td>\n      <td>NaN</td>\n      <td>NaN</td>\n      <td>NaN</td>\n      <td>NaN</td>\n      <td>NaN</td>\n      <td>NaN</td>\n      <td>NaN</td>\n      <td>NaN</td>\n      <td>NaN</td>\n    </tr>\n    <tr>\n      <th>1</th>\n      <td>NaN</td>\n      <td>NaN</td>\n      <td>NaN</td>\n      <td>NaN</td>\n      <td>NaN</td>\n      <td>NaN</td>\n      <td>NaN</td>\n      <td>NaN</td>\n      <td>NaN</td>\n      <td>NaN</td>\n      <td>...</td>\n      <td>NaN</td>\n      <td>NaN</td>\n      <td>NaN</td>\n      <td>NaN</td>\n      <td>NaN</td>\n      <td>NaN</td>\n      <td>NaN</td>\n      <td>NaN</td>\n      <td>NaN</td>\n      <td>NaN</td>\n    </tr>\n    <tr>\n      <th>2</th>\n      <td>Sales, by month</td>\n      <td>NaN</td>\n      <td>NaN</td>\n      <td>NaN</td>\n      <td>NaN</td>\n      <td>NaN</td>\n      <td>NaN</td>\n      <td>NaN</td>\n      <td>NaN</td>\n      <td>NaN</td>\n      <td>...</td>\n      <td>NaN</td>\n      <td>NaN</td>\n      <td>NaN</td>\n      <td>NaN</td>\n      <td>NaN</td>\n      <td>NaN</td>\n      <td>NaN</td>\n      <td>NaN</td>\n      <td>NaN</td>\n      <td>NaN</td>\n    </tr>\n    <tr>\n      <th>3</th>\n      <td>NaN</td>\n      <td>NaN</td>\n      <td>NaN</td>\n      <td>NaN</td>\n      <td>NaN</td>\n      <td>NaN</td>\n      <td>NaN</td>\n      <td>NaN</td>\n      <td>NaN</td>\n      <td>NaN</td>\n      <td>...</td>\n      <td>NaN</td>\n      <td>NaN</td>\n      <td>NaN</td>\n      <td>NaN</td>\n      <td>NaN</td>\n      <td>NaN</td>\n      <td>NaN</td>\n      <td>NaN</td>\n      <td>NaN</td>\n      <td>NaN</td>\n    </tr>\n    <tr>\n      <th>4</th>\n      <td>NaN</td>\n      <td>Month</td>\n      <td>1/31/19</td>\n      <td>2/28/19</td>\n      <td>3/31/19</td>\n      <td>4/30/19</td>\n      <td>5/31/19</td>\n      <td>6/30/19</td>\n      <td>7/31/19</td>\n      <td>8/31/19</td>\n      <td>...</td>\n      <td>3/31/23</td>\n      <td>4/30/23</td>\n      <td>5/31/23</td>\n      <td>6/30/23</td>\n      <td>7/31/23</td>\n      <td>8/31/23</td>\n      <td>9/30/23</td>\n      <td>10/31/23</td>\n      <td>11/30/23</td>\n      <td>12/31/23</td>\n    </tr>\n    <tr>\n      <th>5</th>\n      <td>NaN</td>\n      <td>Volume (units)</td>\n      <td>10000</td>\n      <td>10,200</td>\n      <td>10,404</td>\n      <td>10,612</td>\n      <td>10,824</td>\n      <td>11,041</td>\n      <td>11,262</td>\n      <td>11,487</td>\n      <td>...</td>\n      <td>26,916</td>\n      <td>27,454</td>\n      <td>28,003</td>\n      <td>28,563</td>\n      <td>29,135</td>\n      <td>29,717</td>\n      <td>30,312</td>\n      <td>30,918</td>\n      <td>31,536</td>\n      <td>32,167</td>\n    </tr>\n  </tbody>\n</table>\n<p>6 rows × 62 columns</p>\n</div>"
     },
     "execution_count": 3,
     "metadata": {},
     "output_type": "execute_result"
    }
   ],
   "source": [
    "df.head(15)"
   ],
   "metadata": {
    "collapsed": false,
    "ExecuteTime": {
     "end_time": "2024-05-01T11:59:09.001977800Z",
     "start_time": "2024-05-01T11:59:08.989978200Z"
    }
   },
   "id": "c07e162906cf205f",
   "execution_count": 3
  },
  {
   "cell_type": "code",
   "outputs": [
    {
     "data": {
      "text/plain": "Unnamed: 0               5\nUpsell                   3\nIncreasing instalment    3\nUnnamed: 3               4\nUnnamed: 4               4\n                        ..\nUnnamed: 57              4\nUnnamed: 58              4\nUnnamed: 59              4\nUnnamed: 60              4\nUnnamed: 61              4\nLength: 62, dtype: int64"
     },
     "execution_count": 4,
     "metadata": {},
     "output_type": "execute_result"
    }
   ],
   "source": [
    "df.isnull().sum()"
   ],
   "metadata": {
    "collapsed": false,
    "ExecuteTime": {
     "end_time": "2024-05-01T11:59:10.569342500Z",
     "start_time": "2024-05-01T11:59:10.564526500Z"
    }
   },
   "id": "3bf6da995d38e513",
   "execution_count": 4
  },
  {
   "cell_type": "code",
   "outputs": [
    {
     "data": {
      "text/plain": "Unnamed: 0               object\nUpsell                   object\nIncreasing instalment    object\nUnnamed: 3               object\nUnnamed: 4               object\n                          ...  \nUnnamed: 57              object\nUnnamed: 58              object\nUnnamed: 59              object\nUnnamed: 60              object\nUnnamed: 61              object\nLength: 62, dtype: object"
     },
     "execution_count": 5,
     "metadata": {},
     "output_type": "execute_result"
    }
   ],
   "source": [
    "df.dtypes"
   ],
   "metadata": {
    "collapsed": false,
    "ExecuteTime": {
     "end_time": "2024-05-01T11:59:11.575626900Z",
     "start_time": "2024-05-01T11:59:11.571830Z"
    }
   },
   "id": "a9043c0af5582d0e",
   "execution_count": 5
  },
  {
   "cell_type": "code",
   "outputs": [
    {
     "data": {
      "text/plain": "             Unnamed: 0   Upsell Increasing instalment Unnamed: 3 Unnamed: 4  \\\ncount                 1        3                     3          2          2   \nunique                1        3                     3          2          2   \ntop     Sales, by month  Upgrade       Increasing term    2/28/19    3/31/19   \nfreq                  1        1                     1          1          1   \n\n       Unnamed: 5 Unnamed: 6 Unnamed: 7 Unnamed: 8 Unnamed: 9  ...  \\\ncount           2          2          2          2          2  ...   \nunique          2          2          2          2          2  ...   \ntop       4/30/19    5/31/19    6/30/19    7/31/19    8/31/19  ...   \nfreq            1          1          1          1          1  ...   \n\n       Unnamed: 52 Unnamed: 53 Unnamed: 54 Unnamed: 55 Unnamed: 56  \\\ncount            2           2           2           2           2   \nunique           2           2           2           2           2   \ntop        3/31/23     4/30/23     5/31/23     6/30/23     7/31/23   \nfreq             1           1           1           1           1   \n\n       Unnamed: 57 Unnamed: 58 Unnamed: 59 Unnamed: 60 Unnamed: 61  \ncount            2           2           2           2           2  \nunique           2           2           2           2           2  \ntop        8/31/23     9/30/23    10/31/23    11/30/23    12/31/23  \nfreq             1           1           1           1           1  \n\n[4 rows x 62 columns]",
      "text/html": "<div>\n<style scoped>\n    .dataframe tbody tr th:only-of-type {\n        vertical-align: middle;\n    }\n\n    .dataframe tbody tr th {\n        vertical-align: top;\n    }\n\n    .dataframe thead th {\n        text-align: right;\n    }\n</style>\n<table border=\"1\" class=\"dataframe\">\n  <thead>\n    <tr style=\"text-align: right;\">\n      <th></th>\n      <th>Unnamed: 0</th>\n      <th>Upsell</th>\n      <th>Increasing instalment</th>\n      <th>Unnamed: 3</th>\n      <th>Unnamed: 4</th>\n      <th>Unnamed: 5</th>\n      <th>Unnamed: 6</th>\n      <th>Unnamed: 7</th>\n      <th>Unnamed: 8</th>\n      <th>Unnamed: 9</th>\n      <th>...</th>\n      <th>Unnamed: 52</th>\n      <th>Unnamed: 53</th>\n      <th>Unnamed: 54</th>\n      <th>Unnamed: 55</th>\n      <th>Unnamed: 56</th>\n      <th>Unnamed: 57</th>\n      <th>Unnamed: 58</th>\n      <th>Unnamed: 59</th>\n      <th>Unnamed: 60</th>\n      <th>Unnamed: 61</th>\n    </tr>\n  </thead>\n  <tbody>\n    <tr>\n      <th>count</th>\n      <td>1</td>\n      <td>3</td>\n      <td>3</td>\n      <td>2</td>\n      <td>2</td>\n      <td>2</td>\n      <td>2</td>\n      <td>2</td>\n      <td>2</td>\n      <td>2</td>\n      <td>...</td>\n      <td>2</td>\n      <td>2</td>\n      <td>2</td>\n      <td>2</td>\n      <td>2</td>\n      <td>2</td>\n      <td>2</td>\n      <td>2</td>\n      <td>2</td>\n      <td>2</td>\n    </tr>\n    <tr>\n      <th>unique</th>\n      <td>1</td>\n      <td>3</td>\n      <td>3</td>\n      <td>2</td>\n      <td>2</td>\n      <td>2</td>\n      <td>2</td>\n      <td>2</td>\n      <td>2</td>\n      <td>2</td>\n      <td>...</td>\n      <td>2</td>\n      <td>2</td>\n      <td>2</td>\n      <td>2</td>\n      <td>2</td>\n      <td>2</td>\n      <td>2</td>\n      <td>2</td>\n      <td>2</td>\n      <td>2</td>\n    </tr>\n    <tr>\n      <th>top</th>\n      <td>Sales, by month</td>\n      <td>Upgrade</td>\n      <td>Increasing term</td>\n      <td>2/28/19</td>\n      <td>3/31/19</td>\n      <td>4/30/19</td>\n      <td>5/31/19</td>\n      <td>6/30/19</td>\n      <td>7/31/19</td>\n      <td>8/31/19</td>\n      <td>...</td>\n      <td>3/31/23</td>\n      <td>4/30/23</td>\n      <td>5/31/23</td>\n      <td>6/30/23</td>\n      <td>7/31/23</td>\n      <td>8/31/23</td>\n      <td>9/30/23</td>\n      <td>10/31/23</td>\n      <td>11/30/23</td>\n      <td>12/31/23</td>\n    </tr>\n    <tr>\n      <th>freq</th>\n      <td>1</td>\n      <td>1</td>\n      <td>1</td>\n      <td>1</td>\n      <td>1</td>\n      <td>1</td>\n      <td>1</td>\n      <td>1</td>\n      <td>1</td>\n      <td>1</td>\n      <td>...</td>\n      <td>1</td>\n      <td>1</td>\n      <td>1</td>\n      <td>1</td>\n      <td>1</td>\n      <td>1</td>\n      <td>1</td>\n      <td>1</td>\n      <td>1</td>\n      <td>1</td>\n    </tr>\n  </tbody>\n</table>\n<p>4 rows × 62 columns</p>\n</div>"
     },
     "execution_count": 6,
     "metadata": {},
     "output_type": "execute_result"
    }
   ],
   "source": [
    "df.describe()"
   ],
   "metadata": {
    "collapsed": false,
    "ExecuteTime": {
     "end_time": "2024-05-01T11:59:13.702229300Z",
     "start_time": "2024-05-01T11:59:13.641472700Z"
    }
   },
   "id": "af51c3066e378e7b",
   "execution_count": 6
  },
  {
   "cell_type": "markdown",
   "source": [
    "DATA PREPROCESSING"
   ],
   "metadata": {
    "collapsed": false
   },
   "id": "d8f9e26b26bc40d5"
  },
  {
   "cell_type": "code",
   "outputs": [],
   "source": [
    "data = {\n",
    "    'Month': [\"1/31/19\", \"2/28/19\", \"3/31/19\", \"4/30/19\", \"5/31/19\", \"6/30/19\", \"7/31/19\", \"8/31/19\", \"9/30/19\", \"10/31/19\", \"11/30/19\", \"12/31/19\", \"1/31/20\", \"2/29/20\", \"3/31/20\", \"4/30/20\", \"5/31/20\", \"6/30/20\", \"7/31/20\", \"8/31/20\", \"9/30/20\", \"10/31/20\", \"11/30/20\", \"12/31/20\", \"1/31/21\", \"2/28/21\", \"3/31/21\", \"4/30/21\", \"5/31/21\", \"6/30/21\", \"7/31/21\", \"8/31/21\", \"9/30/21\", \"10/31/21\", \"11/30/21\", \"12/31/21\", \"1/31/22\", \"2/28/22\", \"3/31/22\", \"4/30/22\", \"5/31/22\", \"6/30/22\", \"7/31/22\", \"8/31/22\", \"9/30/22\", \"10/31/22\", \"11/30/22\", \"12/31/22\", \"1/31/23\", \"2/28/23\", \"3/31/23\", \"4/30/23\", \"5/31/23\", \"6/30/23\", \"7/31/23\", \"8/31/23\", \"9/30/23\", \"10/31/23\", \"11/30/23\", \"12/31/23\"\n",
    "              ],\n",
    "    'Volume (units)': [10000, 10200, 10404, 10612, 10824, 11041, 11262, 11487, 11717, 11951, 12190, 12434, 12682, 12936, 13195, 13459, 13728, 14002, 14282, 14568, 14859, 15157, 15460, 15769, 16084, 16406, 16734, 17069, 17410, 17758, 18114, 18476, 18845, 19222, 19607, 19999, 20399, 20807, 21223, 21647, 22080, 22522, 22972, 23432, 23901, 24379, 24866, 25363, 25871, 26388, 26916, 27454, 28003, 28563, 29135, 29717, 30312, 30918, 31536, 32167\n",
    "                       ]\n",
    "}"
   ],
   "metadata": {
    "collapsed": false,
    "ExecuteTime": {
     "end_time": "2024-05-01T11:59:15.624058800Z",
     "start_time": "2024-05-01T11:59:15.611636400Z"
    }
   },
   "id": "5baf8a1d85a7af22",
   "execution_count": 7
  },
  {
   "cell_type": "code",
   "outputs": [],
   "source": [
    "df = pd.DataFrame(data)"
   ],
   "metadata": {
    "collapsed": false,
    "ExecuteTime": {
     "end_time": "2024-05-01T11:59:16.435201700Z",
     "start_time": "2024-05-01T11:59:16.428675100Z"
    }
   },
   "id": "c7634dd4ecc3416c",
   "execution_count": 8
  },
  {
   "cell_type": "code",
   "outputs": [
    {
     "data": {
      "text/plain": "       Month  Volume (units)\n0    1/31/19           10000\n1    2/28/19           10200\n2    3/31/19           10404\n3    4/30/19           10612\n4    5/31/19           10824\n5    6/30/19           11041\n6    7/31/19           11262\n7    8/31/19           11487\n8    9/30/19           11717\n9   10/31/19           11951\n10  11/30/19           12190\n11  12/31/19           12434\n12   1/31/20           12682\n13   2/29/20           12936\n14   3/31/20           13195",
      "text/html": "<div>\n<style scoped>\n    .dataframe tbody tr th:only-of-type {\n        vertical-align: middle;\n    }\n\n    .dataframe tbody tr th {\n        vertical-align: top;\n    }\n\n    .dataframe thead th {\n        text-align: right;\n    }\n</style>\n<table border=\"1\" class=\"dataframe\">\n  <thead>\n    <tr style=\"text-align: right;\">\n      <th></th>\n      <th>Month</th>\n      <th>Volume (units)</th>\n    </tr>\n  </thead>\n  <tbody>\n    <tr>\n      <th>0</th>\n      <td>1/31/19</td>\n      <td>10000</td>\n    </tr>\n    <tr>\n      <th>1</th>\n      <td>2/28/19</td>\n      <td>10200</td>\n    </tr>\n    <tr>\n      <th>2</th>\n      <td>3/31/19</td>\n      <td>10404</td>\n    </tr>\n    <tr>\n      <th>3</th>\n      <td>4/30/19</td>\n      <td>10612</td>\n    </tr>\n    <tr>\n      <th>4</th>\n      <td>5/31/19</td>\n      <td>10824</td>\n    </tr>\n    <tr>\n      <th>5</th>\n      <td>6/30/19</td>\n      <td>11041</td>\n    </tr>\n    <tr>\n      <th>6</th>\n      <td>7/31/19</td>\n      <td>11262</td>\n    </tr>\n    <tr>\n      <th>7</th>\n      <td>8/31/19</td>\n      <td>11487</td>\n    </tr>\n    <tr>\n      <th>8</th>\n      <td>9/30/19</td>\n      <td>11717</td>\n    </tr>\n    <tr>\n      <th>9</th>\n      <td>10/31/19</td>\n      <td>11951</td>\n    </tr>\n    <tr>\n      <th>10</th>\n      <td>11/30/19</td>\n      <td>12190</td>\n    </tr>\n    <tr>\n      <th>11</th>\n      <td>12/31/19</td>\n      <td>12434</td>\n    </tr>\n    <tr>\n      <th>12</th>\n      <td>1/31/20</td>\n      <td>12682</td>\n    </tr>\n    <tr>\n      <th>13</th>\n      <td>2/29/20</td>\n      <td>12936</td>\n    </tr>\n    <tr>\n      <th>14</th>\n      <td>3/31/20</td>\n      <td>13195</td>\n    </tr>\n  </tbody>\n</table>\n</div>"
     },
     "execution_count": 9,
     "metadata": {},
     "output_type": "execute_result"
    }
   ],
   "source": [
    "df.head(15)"
   ],
   "metadata": {
    "collapsed": false,
    "ExecuteTime": {
     "end_time": "2024-05-01T11:59:17.214652600Z",
     "start_time": "2024-05-01T11:59:17.203135600Z"
    }
   },
   "id": "9be68c1b813a6b8d",
   "execution_count": 9
  },
  {
   "cell_type": "code",
   "outputs": [
    {
     "data": {
      "text/plain": "(60, 2)"
     },
     "execution_count": 10,
     "metadata": {},
     "output_type": "execute_result"
    }
   ],
   "source": [
    "df.shape"
   ],
   "metadata": {
    "collapsed": false,
    "ExecuteTime": {
     "end_time": "2024-05-01T11:59:18.246059600Z",
     "start_time": "2024-05-01T11:59:18.223656600Z"
    }
   },
   "id": "712e0743e128ed6d",
   "execution_count": 10
  },
  {
   "cell_type": "markdown",
   "source": [
    "Monthly Sales"
   ],
   "metadata": {
    "collapsed": false
   },
   "id": "9799a2f6a0a51a35"
  },
  {
   "cell_type": "code",
   "outputs": [
    {
     "data": {
      "text/plain": "<Figure size 1000x600 with 1 Axes>",
      "image/png": "[encoded data removed]"
     },
     "metadata": {},
     "output_type": "display_data"
    }
   ],
   "source": [
    "# Convert 'Month' column to datetime format\n",
    "df['Month'] = pd.to_datetime(df['Month'], format='%m/%d/%y')\n",
    "\n",
    "# Set 'Month' as the index\n",
    "df.set_index('Month', inplace=True)\n",
    "\n",
    "# Resample to monthly frequency and sum the sales volume\n",
    "monthly_sales = df.resample('M').sum()\n",
    "\n",
    "# Plot monthly sales volume\n",
    "plt.figure(figsize=(10, 6))\n",
    "plt.plot(monthly_sales.index, monthly_sales['Volume (units)'], marker='o', linestyle='-')\n",
    "plt.title('Monthly Sales Volume')\n",
    "plt.xlabel('Month')\n",
    "plt.ylabel('Sales Volume')\n",
    "plt.grid(True)\n",
    "plt.xticks(rotation=45)\n",
    "plt.tight_layout()\n",
    "plt.show()"
   ],
   "metadata": {
    "collapsed": false,
    "ExecuteTime": {
     "end_time": "2024-05-01T11:59:20.149691600Z",
     "start_time": "2024-05-01T11:59:19.792095100Z"
    }
   },
   "id": "e938cc9216bdcb16",
   "execution_count": 11
  },
  {
   "cell_type": "markdown",
   "source": [
    "Calculate Eligibility"
   ],
   "metadata": {
    "collapsed": false
   },
   "id": "adfc192226576577"
  },
  {
   "cell_type": "code",
   "outputs": [
    {
     "name": "stdout",
     "output_type": "stream",
     "text": [
      "            Volume (units)  Upsell_Eligible  Upgrade_Eligible  Upsell_Profit  \\\n",
      "Month                                                                          \n",
      "2019-01-31           10000           9000.0                 0  200187.134907   \n",
      "2019-02-28           10200           9180.0                 0  202013.346467   \n",
      "2019-03-31           10404           9363.6                 0  203622.176727   \n",
      "2019-04-30           10612           9550.8                 0  205320.876683   \n",
      "2019-05-31           10824           9741.6                 0  206951.459324   \n",
      "\n",
      "            Upgrade_Profit  \n",
      "Month                       \n",
      "2019-01-31             0.0  \n",
      "2019-02-28             0.0  \n",
      "2019-03-31             0.0  \n",
      "2019-04-30             0.0  \n",
      "2019-05-31             0.0  \n"
     ]
    }
   ],
   "source": [
    "def calculate_eligibility(df):\n",
    "    # Calculate eligibility for upsells (cash loans)\n",
    "    df['Upsell_Eligible'] = 0.9 * df['Volume (units)']\n",
    "\n",
    "    # Calculate eligibility for upgrades (TV upgrades)\n",
    "    df['Upgrade_Eligible'] = 0\n",
    "    for i in range(len(df)):\n",
    "        if i >= 400:\n",
    "            prev_upsells = df.iloc[i-400:i]['Upsell_Eligible'].sum()\n",
    "            upsell_count = df.iloc[i-400:i]['Upsell_Eligible'].apply(lambda x: 1 if x > 0 else 0).sum()\n",
    "            if upsell_count == 0:\n",
    "                upgrade_eligibility = 0.75 * df.iloc[i]['Volume (units)']\n",
    "            else:\n",
    "                upgrade_eligibility = max(0, 0.75 - 0.2 * upsell_count) * df.iloc[i]['Volume (units)']\n",
    "            df.loc[df.index[i], 'Upgrade_Eligible'] = upgrade_eligibility\n",
    "\n",
    "    return df\n",
    "\n",
    "# Apply eligibility calculation function\n",
    "df = calculate_eligibility(df)\n",
    "# Check the updated DataFrame\n",
    "print(df.head())"
   ],
   "metadata": {
    "collapsed": false,
    "ExecuteTime": {
     "end_time": "2024-05-01T12:01:48.558029200Z",
     "start_time": "2024-05-01T12:01:48.551587300Z"
    }
   },
   "id": "de79d7a6ee4692f4",
   "execution_count": 18
  },
  {
   "cell_type": "markdown",
   "source": [
    "Profit Contributions for upsells and upgrades\n",
    "\n"
   ],
   "metadata": {
    "collapsed": false
   },
   "id": "cb22d902c5d9384c"
  },
  {
   "cell_type": "code",
   "outputs": [
    {
     "name": "stdout",
     "output_type": "stream",
     "text": [
      "            Volume (units)  Upsell_Eligible  Upgrade_Eligible  Upsell_Profit  \\\n",
      "Month                                                                          \n",
      "2019-01-31           10000           9000.0                 0  200187.134907   \n",
      "2019-02-28           10200           9180.0                 0  202013.346467   \n",
      "2019-03-31           10404           9363.6                 0  203622.176727   \n",
      "2019-04-30           10612           9550.8                 0  205320.876683   \n",
      "2019-05-31           10824           9741.6                 0  206951.459324   \n",
      "\n",
      "            Upgrade_Profit  \n",
      "Month                       \n",
      "2019-01-31             0.0  \n",
      "2019-02-28             0.0  \n",
      "2019-03-31             0.0  \n",
      "2019-04-30             0.0  \n",
      "2019-05-31             0.0  \n"
     ]
    }
   ],
   "source": [
    "def calculate_profit_contribution(df):\n",
    "    # Calculate profit contribution for upsells\n",
    "    df['Upsell_Profit'] = 25 * df['Upsell_Eligible'] * 0.9 / np.power(1.15, (df.index.dayofyear - 1) / 365)\n",
    "\n",
    "    # Calculate profit contribution for upgrades\n",
    "    df['Upgrade_Profit'] = 150 * df['Upgrade_Eligible'] * 0.5 / np.power(1.15, (df.index.dayofyear - 1) / 365)\n",
    "\n",
    "    return df\n",
    "\n",
    "# Apply profit contribution calculation function\n",
    "df = calculate_profit_contribution(df)\n",
    "\n",
    "# Check the updated DataFrame\n",
    "print(df.head())"
   ],
   "metadata": {
    "collapsed": false,
    "ExecuteTime": {
     "end_time": "2024-05-01T12:01:50.833903200Z",
     "start_time": "2024-05-01T12:01:50.816108400Z"
    }
   },
   "id": "f1e7544f121c5f68",
   "execution_count": 19
  },
  {
   "cell_type": "markdown",
   "source": [
    "Optimization Problem:\n",
    "\n",
    "By adopting to Linear Programming I have formulated an optimization problem to maximize the total profit by finding the optimal mix of upsells and upgrades to sell each month"
   ],
   "metadata": {
    "collapsed": false
   },
   "id": "338d89eef1f0b4a4"
  },
  {
   "cell_type": "code",
   "outputs": [
    {
     "name": "stdout",
     "output_type": "stream",
     "text": [
      "            Volume (units)  Upsell_Eligible  Upgrade_Eligible  Upsell_Profit  \\\n",
      "Month                                                                          \n",
      "2019-01-31           10000           9000.0                 0  200187.134907   \n",
      "2019-02-28           10200           9180.0                 0  202013.346467   \n",
      "2019-03-31           10404           9363.6                 0  203622.176727   \n",
      "2019-04-30           10612           9550.8                 0  205320.876683   \n",
      "2019-05-31           10824           9741.6                 0  206951.459324   \n",
      "\n",
      "            Upgrade_Profit         Upsell  Upgrade  \n",
      "Month                                               \n",
      "2019-01-31             0.0  892861.884634      0.0  \n",
      "2019-02-28             0.0  895028.500822      0.0  \n",
      "2019-03-31             0.0  896937.215980      0.0  \n",
      "2019-04-30             0.0  898952.552486      0.0  \n",
      "2019-05-31             0.0  900887.074654      0.0  \n"
     ]
    }
   ],
   "source": [
    "from scipy.optimize import minimize\n",
    "\n",
    "def objective_function(x, df):\n",
    "    upsell_profit = df['Upsell_Profit'].values\n",
    "    upgrade_profit = df['Upgrade_Profit'].values\n",
    "    return -np.dot(upsell_profit, x[:len(upsell_profit)]) - np.dot(upgrade_profit, x[len(upsell_profit):])\n",
    "\n",
    "def upsell_constraint(x, df):\n",
    "    return x[:len(df)] - df['Upsell_Eligible'].values\n",
    "\n",
    "def upgrade_constraint(x, df):\n",
    "    return x[len(df):] - df['Upgrade_Eligible'].values\n",
    "\n",
    "def optimize_product_mix_scipy(df):\n",
    "    # Initial guess for the decision variables\n",
    "    x0 = np.zeros(2 * len(df))\n",
    "\n",
    "    # Define bounds for the decision variables (non-negative)\n",
    "    bounds = [(0, None)] * len(x0)\n",
    "\n",
    "    # Define constraints\n",
    "    constraints = [\n",
    "        {'type': 'ineq', 'fun': upsell_constraint, 'args': (df,)},\n",
    "        {'type': 'ineq', 'fun': upgrade_constraint, 'args': (df,)}\n",
    "    ]\n",
    "\n",
    "    # Optimize the objective function subject to constraints\n",
    "    result = minimize(objective_function, x0, args=(df,), method='SLSQP', bounds=bounds, constraints=constraints)\n",
    "\n",
    "    # Extract the optimal solution\n",
    "    upsell_optimal = result.x[:len(df)]\n",
    "    upgrade_optimal = result.x[len(df):]\n",
    "\n",
    "    # Update the DataFrame with optimal solution\n",
    "    df['Upsell'] = upsell_optimal\n",
    "    df['Upgrade'] = upgrade_optimal\n",
    "\n",
    "    return df\n",
    "\n",
    "# Optimize the product mix using SciPy\n",
    "df_optimized = optimize_product_mix_scipy(df.copy())\n",
    "\n",
    "print(df_optimized.head())"
   ],
   "metadata": {
    "collapsed": false,
    "ExecuteTime": {
     "end_time": "2024-05-01T12:12:53.300103200Z",
     "start_time": "2024-05-01T12:12:53.188511800Z"
    }
   },
   "id": "911a5e75f9358bc0",
   "execution_count": 20
  },
  {
   "cell_type": "code",
   "outputs": [],
   "source": [],
   "metadata": {
    "collapsed": false
   },
   "id": "bc33093f6285a9d7"
  }
 ],
 "metadata": {
  "kernelspec": {
   "display_name": "Python 3",
   "language": "python",
   "name": "python3"
  },
  "language_info": {
   "codemirror_mode": {
    "name": "ipython",
    "version": 2
   },
   "file_extension": ".py",
   "mimetype": "text/x-python",
   "name": "python",
   "nbconvert_exporter": "python",
   "pygments_lexer": "ipython2",
   "version": "2.7.6"
  }
 },
 "nbformat": 4,
 "nbformat_minor": 5
}
